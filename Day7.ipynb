{
  "nbformat": 4,
  "nbformat_minor": 0,
  "metadata": {
    "colab": {
      "private_outputs": true,
      "provenance": [],
      "include_colab_link": true
    },
    "kernelspec": {
      "name": "python3",
      "display_name": "Python 3"
    },
    "language_info": {
      "name": "python"
    }
  },
  "cells": [
    {
      "cell_type": "markdown",
      "metadata": {
        "id": "view-in-github",
        "colab_type": "text"
      },
      "source": [
        "<a href=\"https://colab.research.google.com/github/thanubaalaji/ranganathan/blob/main/Day7.ipynb\" target=\"_parent\"><img src=\"https://colab.research.google.com/assets/colab-badge.svg\" alt=\"Open In Colab\"/></a>"
      ]
    },
    {
      "cell_type": "code",
      "execution_count": null,
      "metadata": {
        "id": "MTMDFAZ_3xIR"
      },
      "outputs": [],
      "source": [
        "#operators\n",
        "arithmetic\n",
        "logicla\n",
        "assignemtn\n",
        "relational\n"
      ]
    },
    {
      "cell_type": "code",
      "source": [
        "#bitwise operators\n",
        "#&\n",
        "a=5"
      ],
      "metadata": {
        "id": "_7AVEbgl7d57"
      },
      "execution_count": null,
      "outputs": []
    },
    {
      "cell_type": "code",
      "source": [
        "b=4"
      ],
      "metadata": {
        "id": "TnCRvyIq8AY6"
      },
      "execution_count": null,
      "outputs": []
    },
    {
      "cell_type": "code",
      "source": [
        "a&b"
      ],
      "metadata": {
        "id": "wt_-s-XK8BWF"
      },
      "execution_count": null,
      "outputs": []
    },
    {
      "cell_type": "code",
      "source": [
        "x=6\n",
        "y=2"
      ],
      "metadata": {
        "id": "vXq_3A-b9Ccz"
      },
      "execution_count": null,
      "outputs": []
    },
    {
      "cell_type": "code",
      "source": [
        "x&y"
      ],
      "metadata": {
        "id": "wQr2hx4a9EPx"
      },
      "execution_count": null,
      "outputs": []
    },
    {
      "cell_type": "code",
      "source": [
        "6&2"
      ],
      "metadata": {
        "id": "iHtnlbsb9GRz"
      },
      "execution_count": null,
      "outputs": []
    },
    {
      "cell_type": "code",
      "source": [
        "6|2"
      ],
      "metadata": {
        "id": "uTMAcDwi9WLz"
      },
      "execution_count": null,
      "outputs": []
    },
    {
      "cell_type": "code",
      "source": [
        "a|b"
      ],
      "metadata": {
        "id": "saA5B6rw9IiM"
      },
      "execution_count": null,
      "outputs": []
    },
    {
      "cell_type": "code",
      "source": [
        "#~"
      ],
      "metadata": {
        "id": "v7KJGmiD9pbB"
      },
      "execution_count": null,
      "outputs": []
    },
    {
      "cell_type": "code",
      "source": [
        "a"
      ],
      "metadata": {
        "id": "iWdDEHQy98uf"
      },
      "execution_count": null,
      "outputs": []
    },
    {
      "cell_type": "code",
      "source": [
        "~a"
      ],
      "metadata": {
        "id": "FUPlEqwR-Bj-"
      },
      "execution_count": null,
      "outputs": []
    },
    {
      "cell_type": "code",
      "source": [
        "#^ xor operator"
      ],
      "metadata": {
        "id": "Opq2lmqN-GZp"
      },
      "execution_count": null,
      "outputs": []
    },
    {
      "cell_type": "code",
      "source": [
        "a"
      ],
      "metadata": {
        "id": "Rf4crzxQ-Muj"
      },
      "execution_count": null,
      "outputs": []
    },
    {
      "cell_type": "code",
      "source": [
        "b"
      ],
      "metadata": {
        "id": "cufvyt5--9ov"
      },
      "execution_count": null,
      "outputs": []
    },
    {
      "cell_type": "code",
      "source": [
        "5^4"
      ],
      "metadata": {
        "id": "YM185g2C--Oi"
      },
      "execution_count": null,
      "outputs": []
    },
    {
      "cell_type": "code",
      "source": [
        "#>>"
      ],
      "metadata": {
        "id": "sJvHEhD8_ANS"
      },
      "execution_count": null,
      "outputs": []
    },
    {
      "cell_type": "code",
      "source": [
        "a#---->0000 0101\n",
        "#right shift is 0000 0001"
      ],
      "metadata": {
        "id": "rlhzA6HTAAEM"
      },
      "execution_count": null,
      "outputs": []
    },
    {
      "cell_type": "code",
      "source": [
        "a>>2"
      ],
      "metadata": {
        "id": "zwlMl7vgAA32"
      },
      "execution_count": null,
      "outputs": []
    },
    {
      "cell_type": "code",
      "source": [
        "#left shift\n",
        "a<<2#---0001 0100"
      ],
      "metadata": {
        "id": "-SNQItEfAjUF"
      },
      "execution_count": null,
      "outputs": []
    },
    {
      "cell_type": "code",
      "source": [
        "5*2^2"
      ],
      "metadata": {
        "id": "dlEFgQvYA8AD"
      },
      "execution_count": null,
      "outputs": []
    },
    {
      "cell_type": "code",
      "source": [
        "2^2"
      ],
      "metadata": {
        "id": "UHMHmQRfB2WK"
      },
      "execution_count": null,
      "outputs": []
    },
    {
      "cell_type": "code",
      "source": [
        "a=[1,2,3,5]"
      ],
      "metadata": {
        "id": "8yMYJQKPCxRo"
      },
      "execution_count": null,
      "outputs": []
    },
    {
      "cell_type": "code",
      "source": [
        "5 in a"
      ],
      "metadata": {
        "id": "M3l4LcSTB6oG"
      },
      "execution_count": null,
      "outputs": []
    },
    {
      "cell_type": "code",
      "source": [
        "if 5 in a:\n",
        "    print(\"5 is inside a\")"
      ],
      "metadata": {
        "id": "D9oldqmCC5Mf"
      },
      "execution_count": null,
      "outputs": []
    },
    {
      "cell_type": "code",
      "source": [
        "4 in a"
      ],
      "metadata": {
        "id": "YOaBEEElDESX"
      },
      "execution_count": null,
      "outputs": []
    },
    {
      "cell_type": "code",
      "source": [
        "if 4 in a:\n",
        "    print(\"4 is inside a\")\n",
        "else:\n",
        "    print(\"4 is not inside a\")"
      ],
      "metadata": {
        "id": "_BQ9QtjKDIpj"
      },
      "execution_count": null,
      "outputs": []
    },
    {
      "cell_type": "code",
      "source": [
        "#identity operator\n",
        "a=10\n",
        "b=10"
      ],
      "metadata": {
        "id": "KOpIBRWcDTHK"
      },
      "execution_count": null,
      "outputs": []
    },
    {
      "cell_type": "code",
      "source": [
        "a is b #this is checking id"
      ],
      "metadata": {
        "id": "9bZBGmYqDhlP"
      },
      "execution_count": null,
      "outputs": []
    },
    {
      "cell_type": "code",
      "source": [
        "id(a)"
      ],
      "metadata": {
        "id": "x-UB4JphD9s4"
      },
      "execution_count": null,
      "outputs": []
    },
    {
      "cell_type": "code",
      "source": [
        "id(b)"
      ],
      "metadata": {
        "id": "FI2R4rSqEAnq"
      },
      "execution_count": null,
      "outputs": []
    },
    {
      "cell_type": "code",
      "source": [
        "a==b #it is checking value"
      ],
      "metadata": {
        "id": "piSmonnUDmVk"
      },
      "execution_count": null,
      "outputs": []
    },
    {
      "cell_type": "code",
      "source": [
        "x=20\n",
        "y=40"
      ],
      "metadata": {
        "id": "vq-SOFcjDqUv"
      },
      "execution_count": null,
      "outputs": []
    },
    {
      "cell_type": "code",
      "source": [
        "x is not y"
      ],
      "metadata": {
        "id": "HtTsmBNDEG8j"
      },
      "execution_count": null,
      "outputs": []
    },
    {
      "cell_type": "code",
      "source": [
        "x==y"
      ],
      "metadata": {
        "id": "DfOM7zsMEIrD"
      },
      "execution_count": null,
      "outputs": []
    },
    {
      "cell_type": "code",
      "source": [
        "2*(2+3)"
      ],
      "metadata": {
        "id": "gX-7P4pCEKOH"
      },
      "execution_count": null,
      "outputs": []
    },
    {
      "cell_type": "code",
      "source": [
        "2+2-2"
      ],
      "metadata": {
        "id": "f5kKXaflF1X3"
      },
      "execution_count": null,
      "outputs": []
    },
    {
      "cell_type": "code",
      "source": [
        "(2+3)/2%6//6-2"
      ],
      "metadata": {
        "id": "VTMjHS37GKhf"
      },
      "execution_count": null,
      "outputs": []
    },
    {
      "cell_type": "code",
      "source": [
        "2.5%6"
      ],
      "metadata": {
        "id": "9G-OiQVLHEfc"
      },
      "execution_count": null,
      "outputs": []
    },
    {
      "cell_type": "code",
      "source": [
        "2.5//6"
      ],
      "metadata": {
        "id": "u17zS3UBHGox"
      },
      "execution_count": null,
      "outputs": []
    },
    {
      "cell_type": "code",
      "source": [
        "2+3/4-(2*2**3)%4-3"
      ],
      "metadata": {
        "id": "Gg4uw-VpHMYX"
      },
      "execution_count": null,
      "outputs": []
    },
    {
      "cell_type": "code",
      "source": [
        "2**3>>3+2^3"
      ],
      "metadata": {
        "id": "LIDdEsV0IVNV"
      },
      "execution_count": null,
      "outputs": []
    },
    {
      "cell_type": "code",
      "source": [
        "#pthon functions\n",
        "1. builin function\n",
        "2. module based or library based or package based functions\n",
        "3. user defined furction\n",
        "    to organize the code\n",
        "    to eleiminate the code duplication\n",
        "    reuse again and again.\n"
      ],
      "metadata": {
        "id": "Wjgd1eN9J2AK"
      },
      "execution_count": null,
      "outputs": []
    },
    {
      "cell_type": "code",
      "source": [
        "import array\n",
        "array.array(\"i\",(1,2,3,3))"
      ],
      "metadata": {
        "id": "SG6_cK7_K2Vf"
      },
      "execution_count": null,
      "outputs": []
    },
    {
      "cell_type": "code",
      "source": [
        "syntax of function:\n",
        "    def function_name(paramaters):\n",
        "        <statements>\n",
        "        return value\n",
        "    calling function name"
      ],
      "metadata": {
        "id": "4yK6Ri6uLnJ-"
      },
      "execution_count": null,
      "outputs": []
    },
    {
      "cell_type": "code",
      "source": [
        "def fun():\n",
        "    pass"
      ],
      "metadata": {
        "id": "6rbZ2NsoLFKW"
      },
      "execution_count": null,
      "outputs": []
    },
    {
      "cell_type": "code",
      "source": [
        "def fun():\n",
        "    return \"hello world\"\n",
        "    #print(\"hello world\")\n",
        "#driver code\n",
        "#function calling\n",
        "fun()"
      ],
      "metadata": {
        "id": "OVJLEzwSK8Xq"
      },
      "execution_count": null,
      "outputs": []
    },
    {
      "cell_type": "code",
      "source": [
        "a+b"
      ],
      "metadata": {
        "id": "ZrYZgR-9Mljy"
      },
      "execution_count": null,
      "outputs": []
    },
    {
      "cell_type": "code",
      "source": [
        "def add(a,b):#a, b are parameters\n",
        "    c=a+b\n",
        "    return c\n",
        "add(10,10)#arguments\n"
      ],
      "metadata": {
        "id": "EbuyPxJbM2yc"
      },
      "execution_count": null,
      "outputs": []
    },
    {
      "cell_type": "code",
      "source": [
        "def add(a,b):#a, b are parameters\n",
        "    return a+b\n",
        "d=add(10,10)#arguments\n",
        "print(d)"
      ],
      "metadata": {
        "id": "pcz0pFJcNLfK"
      },
      "execution_count": null,
      "outputs": []
    },
    {
      "cell_type": "code",
      "source": [
        "sum((10,20)) #builtin sum of elements"
      ],
      "metadata": {
        "id": "K6hys5NJNVqk"
      },
      "execution_count": null,
      "outputs": []
    },
    {
      "cell_type": "code",
      "source": [
        "sum((20,20))"
      ],
      "metadata": {
        "id": "mq_wyGZVNe9m"
      },
      "execution_count": null,
      "outputs": []
    },
    {
      "cell_type": "code",
      "source": [
        "def add(a,b):#a, b are parameters\n",
        "    c=a+b\n",
        "    return c\n",
        "add(20,20)#arguments"
      ],
      "metadata": {
        "id": "P9KL7YHMNyPL"
      },
      "execution_count": null,
      "outputs": []
    },
    {
      "cell_type": "code",
      "source": [
        "add(30,40)"
      ],
      "metadata": {
        "id": "JhbJQYVoN66s"
      },
      "execution_count": null,
      "outputs": []
    },
    {
      "cell_type": "code",
      "source": [
        "add(50,60)"
      ],
      "metadata": {
        "id": "YsZ57pCHN8lx"
      },
      "execution_count": null,
      "outputs": []
    },
    {
      "cell_type": "code",
      "source": [
        "def fun1(a,b):\n",
        "    return a+b\n",
        "res =fun1(20,30)+20\n",
        "print(res)#res is varible it is responsble for holding data"
      ],
      "metadata": {
        "id": "nWmpPaaVN_u8"
      },
      "execution_count": null,
      "outputs": []
    },
    {
      "cell_type": "code",
      "source": [
        "#function with default value"
      ],
      "metadata": {
        "id": "l7fI4DbROtwM"
      },
      "execution_count": null,
      "outputs": []
    },
    {
      "cell_type": "code",
      "source": [
        "def fun2(name, age=30): #default value\n",
        "    print(f'my name is {name}, and age is {age}')\n",
        "fun2(\"ganesh\")"
      ],
      "metadata": {
        "id": "JV7wGKXKPi7f"
      },
      "execution_count": null,
      "outputs": []
    },
    {
      "cell_type": "code",
      "source": [
        "def fun2(name, age=30):\n",
        "    print(f'my name is {name}, and age is {age}')\n",
        "fun2(\"ganesh\",35)"
      ],
      "metadata": {
        "id": "xgmKqsN8QPA-"
      },
      "execution_count": null,
      "outputs": []
    },
    {
      "cell_type": "code",
      "source": [
        "def fun2(name, age=30, marks=65):\n",
        "    print(f'my name is {name}, and age is {age} my marks {marks}')\n",
        "fun2(\"ganesh\",35,80)\n",
        "fun2(\"shatish\",25, 89)"
      ],
      "metadata": {
        "id": "FMp3-hRpP-9S"
      },
      "execution_count": null,
      "outputs": []
    },
    {
      "cell_type": "code",
      "source": [
        "#function with variable length argument:\n",
        "def fun3(a,b):\n",
        "    print(a,b)\n",
        "fun3(12)\n",
        "fun3(12,3)\n",
        "fun3(1,2,3,4,5)"
      ],
      "metadata": {
        "id": "-17wRGcQVbiQ"
      },
      "execution_count": null,
      "outputs": []
    },
    {
      "cell_type": "code",
      "source": [
        "#function with variable length argument:\n",
        "def fun3(a,b=90):\n",
        "    print(a,b)\n",
        "fun3(12)\n",
        "fun3(12,3)\n",
        "fun3(1,2,3,4,5)"
      ],
      "metadata": {
        "id": "ZWMIg7WnV72w"
      },
      "execution_count": null,
      "outputs": []
    },
    {
      "cell_type": "code",
      "source": [
        "#function with variable length argument:\n",
        "def fun3(a,*b):\n",
        "    print(a,b)\n",
        "fun3(12)#result empty tuple\n",
        "fun3(12,3)#b is 3\n",
        "fun3(1,2,3,4,5) #b is tuple which having"
      ],
      "metadata": {
        "id": "iR1rbkRpVOku"
      },
      "execution_count": null,
      "outputs": []
    },
    {
      "cell_type": "code",
      "source": [
        "#function with keyword argument"
      ],
      "metadata": {
        "id": "8dwbRtrfWgCp"
      },
      "execution_count": null,
      "outputs": []
    },
    {
      "cell_type": "code",
      "source": [
        "def fun4(**kwargs):#keywords arguments\n",
        "    print(kwargs,type(kwargs))\n",
        "fun4(name=\"ganesh\",marks=30)"
      ],
      "metadata": {
        "id": "Lg_YbFYFWk4A"
      },
      "execution_count": null,
      "outputs": []
    },
    {
      "cell_type": "code",
      "source": [
        "\"\"\"\n",
        "(PA----->Positional argument\n",
        "DA----->Default argument,\n",
        "VA---->variable lenghth arguments,\n",
        "KWA------>keyword arguments\n",
        ")\n",
        "\"\"\"\n",
        "\n"
      ],
      "metadata": {
        "id": "dqd_9qwAWl1K"
      },
      "execution_count": null,
      "outputs": []
    },
    {
      "cell_type": "code",
      "source": [
        "#using function take input a=\"1/2/3/4/h\"\n",
        "#expected [1,2,3,4,'h']"
      ],
      "metadata": {
        "id": "uNymaiSnXj0q"
      },
      "execution_count": null,
      "outputs": []
    },
    {
      "cell_type": "code",
      "source": [
        "def split_string(a):\n",
        "    b=[]\n",
        "    for i in a.split('/'):\n",
        "        if i.isdigit():\n",
        "            b.append(int(i))\n",
        "        else:\n",
        "            b.append(i)\n",
        "c=split_string(\"1/2/3/4/h\")\n",
        "print(b)"
      ],
      "metadata": {
        "id": "zzcITBLhaFRo"
      },
      "execution_count": null,
      "outputs": []
    },
    {
      "cell_type": "code",
      "source": [
        "a=\"1/2/3/4/h\"\n",
        "b=[]\n",
        "for i in a.split('/'):\n",
        "    if i.isdigit():\n",
        "        b.append(int(i))\n",
        "    else:\n",
        "        b.append(i)\n",
        "print(b)\n",
        "\n"
      ],
      "metadata": {
        "id": "sEMNyPsVaGjg"
      },
      "execution_count": null,
      "outputs": []
    },
    {
      "cell_type": "code",
      "source": [
        "#pass by reference(sending actaul value) or pass by value(sending copy value)"
      ],
      "metadata": {
        "id": "YhnhQ2LCaO8m"
      },
      "execution_count": null,
      "outputs": []
    },
    {
      "cell_type": "code",
      "source": [
        "#pythoon only pass by reference\n",
        "def fun(x1):\n",
        "    print(\"inside before appending\",x1, id(x1))\n",
        "    x1.append(30)\n",
        "    print(\"after appending\",x1,id(x1))\n",
        "list1=[1,2,3]\n",
        "fun(list1)\n",
        "print(\"after calling appending\",list1,id(list1))"
      ],
      "metadata": {
        "id": "KcbQXG-vcWEc"
      },
      "execution_count": null,
      "outputs": []
    },
    {
      "cell_type": "code",
      "source": [
        "#lambda functions\n",
        "1. anynoumous function\n",
        "2. simply single line statement\n",
        "3. we can call fun name as a argumnt for other built in function\n"
      ],
      "metadata": {
        "id": "ROO-RoOPe4KN"
      },
      "execution_count": null,
      "outputs": []
    },
    {
      "cell_type": "code",
      "source": [
        "def add1(a,b):\n",
        "    return a+b\n",
        "add1(2,3)"
      ],
      "metadata": {
        "id": "uSLRilEcfl0z"
      },
      "execution_count": null,
      "outputs": []
    },
    {
      "cell_type": "code",
      "source": [
        "a=lambda a,b:a+b"
      ],
      "metadata": {
        "id": "pnDb7w4pfg3B"
      },
      "execution_count": null,
      "outputs": []
    },
    {
      "cell_type": "code",
      "source": [
        "a(2,3)"
      ],
      "metadata": {
        "id": "RfjHeAIsfjBA"
      },
      "execution_count": null,
      "outputs": []
    },
    {
      "cell_type": "code",
      "source": [
        "#comprehnsion\n",
        "list\n",
        "set\n",
        "dictionary\n",
        "generator"
      ],
      "metadata": {
        "id": "uUoBMHqMdc_t"
      },
      "execution_count": null,
      "outputs": []
    },
    {
      "cell_type": "code",
      "source": [
        "list1=[1,2,3,4]\n",
        "liat2=[]\n",
        "for i in list1:\n",
        "    if i%2==0:\n",
        "        liat2.append(i)\n",
        "print(liat2)"
      ],
      "metadata": {
        "id": "UUGXhESwgdcf"
      },
      "execution_count": null,
      "outputs": []
    },
    {
      "cell_type": "code",
      "source": [
        "##list comprehnsion\n",
        "syntax:\n",
        "a=[statements(expression) for var in iterbale condition]"
      ],
      "metadata": {
        "id": "omFcuZEOg1QX"
      },
      "execution_count": null,
      "outputs": []
    },
    {
      "cell_type": "code",
      "source": [
        "v=[x**2 for x in list1]\n",
        "print(v)"
      ],
      "metadata": {
        "id": "L1nVkjcLhUBf"
      },
      "execution_count": null,
      "outputs": []
    },
    {
      "cell_type": "code",
      "source": [
        "list1*2"
      ],
      "metadata": {
        "id": "SlF6k_c9iGsQ"
      },
      "execution_count": null,
      "outputs": []
    },
    {
      "cell_type": "code",
      "source": [],
      "metadata": {
        "id": "wWtXGU2nhmJm"
      },
      "execution_count": null,
      "outputs": []
    },
    {
      "cell_type": "code",
      "source": [
        "##set comprehnsion\n",
        "syntax:\n",
        "a={statements(expression) for var in iterable condition}"
      ],
      "metadata": {
        "id": "62ZWZ2HVhmio"
      },
      "execution_count": null,
      "outputs": []
    },
    {
      "cell_type": "code",
      "source": [
        "set1={1,2,3}\n",
        "v={x+2 for x in set1 if 2 in set1}\n",
        "print(v)"
      ],
      "metadata": {
        "id": "D1KSqDmoid87"
      },
      "execution_count": null,
      "outputs": []
    },
    {
      "cell_type": "code",
      "source": [
        "#enumerate\n",
        "list1\n",
        "for i in list1:\n",
        "    dict(enumerate(i))"
      ],
      "metadata": {
        "id": "6TfzpBpgjcrQ"
      },
      "execution_count": null,
      "outputs": []
    },
    {
      "cell_type": "code",
      "source": [
        "list1=['a','b','c','d']\n",
        "for i in list1:\n",
        "    dict(enumerate(i))\n",
        "    print(i)\n"
      ],
      "metadata": {
        "id": "tn2qEfy1j-9G"
      },
      "execution_count": null,
      "outputs": []
    },
    {
      "cell_type": "code",
      "source": [
        "l1=['a','b','c','d']\n",
        "d1=dict(enumerate(l1,1))\n",
        "print(d1)"
      ],
      "metadata": {
        "id": "aRhkRQidvVXl"
      },
      "execution_count": null,
      "outputs": []
    }
  ]
}